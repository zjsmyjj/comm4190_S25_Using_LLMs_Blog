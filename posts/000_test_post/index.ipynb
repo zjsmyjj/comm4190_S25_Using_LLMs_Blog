{
 "cells": [
  {
   "cell_type": "raw",
   "id": "ceb26b6d-d77d-4a43-8a72-f9758596005e",
   "metadata": {},
   "source": [
    "---\n",
    "title: \"A test post\"\n",
    "description: \"An example post from a Jupyter notebook\"\n",
    "author: \"An LLM User\"\n",
    "date: \"2/2/2024\"\n",
    "categories:\n",
    "  - LLMs\n",
    "  - prompting\n",
    "  - logic\n",
    "draft: true\n",
    "---"
   ]
  },
  {
   "cell_type": "markdown",
   "id": "b58618eb-dd92-483b-a802-cf2083e61d6d",
   "metadata": {},
   "source": [
    "## A visualization problem for LLMs\n",
    "\n",
    "* Read the following and see if you can answer the question:\n",
    "\n",
    "> There are three boxes in a stack. A pink one, a purple one and a green one. The pink one is in the middle of the stack with the purple below it. What is the color of the box on the bottom of the stack?"
   ]
  },
  {
   "cell_type": "markdown",
   "id": "e9d7e97a-f92e-411d-8c62-1608d7820af7",
   "metadata": {},
   "source": [
    "Most likely you answered **purple**...\n",
    "\n",
    "But it is possible you first said **green** (don't worry if you did it is quite a common response!)\n",
    "\n",
    "### How do we do it?\n",
    "\n",
    "It's a verbal visual problem that requires some deliberation and most likely for us to create a visual image of a stack of boxes as a reasoning aid.\n",
    "\n",
    "Notice also the complexity of the language used in the prompt to describe the scene. The use of natural language as opposed to a formal/logical calculus does hold the potential for ambiguity (multiple interpretations) and inexactness. However, it is the most normal/natural, efficient and broadly accessible way of communicating such information.\n",
    "\n",
    "**Notice**\n",
    "1. The use of _anaphor_ or _reference_.\n",
    "    - `Three BOXES -> a pink/purple/green ONE` as opposed to `a pink box, a purple box and a green box`.\n",
    "    - `The PINK ONE is in the middle ... the purple` {BOX} `below IT` {the pink box}\n",
    "    \n",
    "    We tend to try and avoid this kind of repetition to make our speech more coherent.\n",
    "\n",
    "2. Although the description in language may not be entirely concise, there is no real ambiguity as to how the boxes can be arranged. It must be:\n",
    "   |   Box  | Stack position |\n",
    "   | --- | --- |\n",
    "   | GREEN | top |\n",
    "   | PINK  | middle |\n",
    "   | PURPLE | bottom |"
   ]
  },
  {
   "cell_type": "markdown",
   "id": "28b4f8ce-0eb8-47b7-ab32-026a9efd5f34",
   "metadata": {},
   "source": [
    "### How do LLMs response to the prompt?\n",
    "\n",
    "**GPT3.5 Turbo**\n",
    "\n",
    "<img src=\"gpt3-5.png\" width=\"50%\"/>\n",
    "\n",
    "Had some difficulties and answered **green**"
   ]
  },
  {
   "cell_type": "markdown",
   "id": "0f185c75-dea4-4e1c-983e-978feba55956",
   "metadata": {},
   "source": [
    "**Llama2 (chat 7B version)**\n",
    "\n",
    "<img src=\"llama2-chat7b.png\" width=\"50%\"/>\n",
    "\n",
    "* Answered correctly (**purple**) and used some so-called _chain-of-thought_ reasoning"
   ]
  },
  {
   "cell_type": "markdown",
   "id": "90c140df-e2bd-4191-81b4-fd87ed4492ea",
   "metadata": {},
   "source": [
    "**Bing Chat (MS Co-pilot)**\n",
    "\n",
    "This LLM is GPT4 with some Microsoft specific tuning and RAG (search) additions.\n",
    "\n",
    "It get's it correct:\n",
    "\n",
    "> The color of the box on the bottom of the stack is purple. This is because the purple box is below the pink one, which is in the middle of the stack. Therefore, the purple box must be the lowest one. 🟪\n",
    "\n",
    "But when you follow up and ask it to create visual representation of the box arrangement\n",
    "\n",
    "> PROMPT: Can you create a visual representation of how the boxes are arranged?\n",
    "\n",
    "It responds\n",
    "\n",
    "> RESPONSE: Sure, I’ll try to create that. Here is a visual representation of how the boxes are arranged:\n",
    "\n",
    "And uses DALL-E3 to create 4 different attempts at a visual representation:\n",
    "\n",
    "![](boxes.png)\n",
    "\n",
    "**NONE OF WHICH ARE CORRECT!!!**"
   ]
  }
 ],
 "metadata": {
  "citation-manager": {
   "items": {}
  },
  "kernelspec": {
   "display_name": "Python 3 (ipykernel)",
   "language": "python",
   "name": "python3"
  },
  "language_info": {
   "codemirror_mode": {
    "name": "ipython",
    "version": 3
   },
   "file_extension": ".py",
   "mimetype": "text/x-python",
   "name": "python",
   "nbconvert_exporter": "python",
   "pygments_lexer": "ipython3",
   "version": "3.10.12"
  }
 },
 "nbformat": 4,
 "nbformat_minor": 5
}
