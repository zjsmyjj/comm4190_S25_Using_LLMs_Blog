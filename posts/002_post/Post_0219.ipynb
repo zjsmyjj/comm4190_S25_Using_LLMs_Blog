{
 "cells": [
  {
   "cell_type": "markdown",
   "id": "4c5ba48f-da00-4fd5-af8f-f8dc92bca879",
   "metadata": {},
   "source": [
    "---\n",
    "title: \"Use AI to create songs\"\n",
    "description: \"Try SUNO to create some songs\"\n",
    "author: \"Qijia\"\n",
    "date: \"2/18/2024\"\n",
    "categories:\n",
    "  - AI\n",
    "  - Music\n",
    "---"
   ]
  },
  {
   "cell_type": "markdown",
   "id": "3e7187d5-171a-4247-8abb-57b78addcfb8",
   "metadata": {},
   "source": [
    "I have not used any AI to create any audio and I do like pop musci a lot. So I tried to use [SUNO](https://suno.com/), an AI tool that can create songs. It seems that SUNO creates songs based on the lyric and music style chosen by the user. First, I asked ChatGPT-4o to create some lyrics for me. Here is the prompt:\n",
    "> Can you create lyrics that tell a story about forbidden love between two good friends?"
   ]
  },
  {
   "cell_type": "markdown",
   "id": "bd1577f4-02d7-47a4-ba45-394dc3573b8f",
   "metadata": {},
   "source": [
    "Here are the lyrics created by ChatGPT-4o:\n",
    "> \"Almost, But Never\"\n",
    ">\n",
    ">(Verse 1)\n",
    "We were always side by side,\n",
    "Laughing 'til the tears ran dry.\n",
    "Late-night talks and reckless dreams,\n",
    "Never thought of you that way—until now, it seems.\n",
    ">\n",
    ">(Pre-Chorus)\n",
    "But the way your eyes linger a little too long,\n",
    "And the way my heart beats when you say my name...\n",
    "We're standing on the edge of something so wrong,\n",
    "But tell me, does it feel the same?\n",
    ">\n",
    ">(Chorus)\n",
    "Almost, but never, we dance on the line,\n",
    "A love left unspoken, a heart that's confined.\n",
    "Too close to be strangers, too far to be more,\n",
    "A love we can't touch, though it's knocking the door.\n",
    ">\n",
    ">(Verse 2)\n",
    "I've memorized your every scar,\n",
    "Every hope, every broken star.\n",
    "You’re my safe place, my sweetest sin,\n",
    "And I don’t know where I end or where you begin.\n",
    ">\n",
    ">(Pre-Chorus)\n",
    "But the world keeps saying that this isn’t right,\n",
    "That some lines aren’t meant to be crossed...\n",
    "But tell me why, when you hold me that tight,\n",
    "The rest of the world just feels lost?\n",
    ">\n",
    ">(Chorus)\n",
    "Almost, but never, we dance on the line,\n",
    "A love left unspoken, a heart that's confined.\n",
    "Too close to be strangers, too far to be more,\n",
    "A love we can't touch, though it's knocking the door.\n",
    ">\n",
    ">(Bridge)\n",
    "If I met you in another life,\n",
    "Would we be free to burn too bright?\n",
    "Would we love without a fear,\n",
    "Or would it still end here?\n",
    ">\n",
    ">(Final Chorus – Soft & Emotional)\n",
    "Almost, but never, we whisper goodbyes,\n",
    "Two souls intertwined but lost in disguise.\n",
    "I’ll love you in silence, I’ll love you in vain,\n",
    "But I’ll love you forever—even if it’s in pain.\n",
    ">\n",
    ">(Outro – Fading)\n",
    "Almost, but never...\n",
    "We were almost, but never..."
   ]
  },
  {
   "cell_type": "markdown",
   "id": "7bbbb6c9-dee1-4576-b5ed-206b7441ab78",
   "metadata": {},
   "source": [
    "But I do not like this version of lyrics and asked ChatGPT-4o to revise them:\n",
    "> Can you make the lyrics less cheesy?"
   ]
  },
  {
   "cell_type": "markdown",
   "id": "36ef14f8-69e6-425c-8643-06f5bee3e5a8",
   "metadata": {},
   "source": [
    "And here are the final version of lyrics:\n",
    ">\"Unspoken\"\n",
    "(Verse 1)\n",
    "We built a home in borrowed time,\n",
    "Laughed our way through crooked lines.\n",
    "Never questioned where we stood—\n",
    "Until the silence felt too good.\n",
    ">\n",
    ">(Pre-Chorus)\n",
    "Your name stays careful on my lips,\n",
    "A weight I carry, never slip.\n",
    "We move like shadows side by side,\n",
    "Too much to hold, too much to hide.\n",
    ">\n",
    ">(Chorus)\n",
    "So we stay where no one asks,\n",
    "Where glances speak but hands don’t clasp.\n",
    "A love unshaped, undefined,\n",
    "A thread that pulls but never ties.\n",
    ">\n",
    ">(Verse 2)\n",
    "The world we made was safe and small,\n",
    "No need for answers, none at all.\n",
    "But something lingers, sharp and slow,\n",
    "A thought that neither dares to know.\n",
    ">\n",
    ">(Pre-Chorus)\n",
    "Your breath too close, the space too thin,\n",
    "A fault line under quiet skin.\n",
    "We learn the steps, we play the part,\n",
    "And no one knows the cost to heart.\n",
    ">\n",
    ">(Chorus)\n",
    "So we stay where no one asks,\n",
    "Where glances speak but hands don’t clasp.\n",
    "A love unshaped, undefined,\n",
    "A thread that pulls but never ties.\n",
    ">\n",
    ">(Bridge)\n",
    "If not in this life, then when?\n",
    "If not as lovers, then as what?\n",
    "I can’t rewrite the start of this,\n",
    "But I would, I would.\n",
    ">\n",
    ">(Final Chorus – Fading)\n",
    "So we stay where no one asks,\n",
    "Where love dissolves but never lacks.\n",
    "A weight, a wish, a closing door,\n",
    "A love that almost was—no more."
   ]
  },
  {
   "cell_type": "markdown",
   "id": "00177a6f-b403-4864-9f86-1413b3d95d7b",
   "metadata": {},
   "source": [
    "Then I entered the GPT-generated lyrics to SUNO and selected \"classic rock\" and \"nostalgia\" as style of music. I noticed that SUNO did not recognize an artist's name. So it is impossible that I can ask it to generate a song similar to those created by my favorite artists. I am not sure the absence of this function is due to the cocern of copyright or the limits of AI technique. \n",
    "\n",
    "Here is the song \"Unspoken\" created by SUNO: https://suno.com/song/f3a8629d-151c-40bc-814b-c0d20aadbb90\n",
    "\n",
    "It seems that SUNO also did not well recognize the style of \"classic rock\" or the vibe of \"nostalgia.\" Probably it only includes some basic music styles like \"country\" and \"rock.\" But to be honest, the quality of the song is quite good except that the AI voice sounds a little non-human. "
   ]
  },
  {
   "cell_type": "markdown",
   "id": "2c5d3b0e-3986-4a54-8f5a-ff6de3b95c5e",
   "metadata": {},
   "source": [
    "Then I wondered what will happen if I used the lyrics that have been already used in a popular song. Can the AI-generated song sound like the orignial one? This time I selected a Chinese song 催眠 (\"Hypnotize\") by [Faye Wong](https://en.wikipedia.org/wiki/Faye_Wong) and used its lyrics to create a new version on SUNO. The style of music was \"dream pop.\" \n",
    "\n",
    "Here is the new version of the song \"Hyponotize\" created by SUNO: https://suno.com/song/a1e07f75-e974-4a86-a8e8-52520c82ef04\n",
    "\n",
    "Again, the music of style still not worked very well and the texture of the voice was still like auto-tuned. The song was similar to the original one in terms of its rhythm. This might be the result of entering lyrics line by line in the system so that AI can recognize the start and stop of each line. But overall, the quality of the song was decent. \n",
    "\n",
    "There are more advanced options on SUNO like copying the voice and style of a song to a new song, but I did not want to pay for these services currently. As AI deveolps rapidly, songs may be generated more effectively by AI."
   ]
  }
 ],
 "metadata": {
  "kernelspec": {
   "display_name": "Python 3 (ipykernel)",
   "language": "python",
   "name": "python3"
  },
  "language_info": {
   "codemirror_mode": {
    "name": "ipython",
    "version": 3
   },
   "file_extension": ".py",
   "mimetype": "text/x-python",
   "name": "python",
   "nbconvert_exporter": "python",
   "pygments_lexer": "ipython3",
   "version": "3.10.12"
  }
 },
 "nbformat": 4,
 "nbformat_minor": 5
}
