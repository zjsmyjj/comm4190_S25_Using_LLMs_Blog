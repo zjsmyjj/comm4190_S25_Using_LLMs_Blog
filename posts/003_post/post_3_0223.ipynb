{
 "cells": [
  {
   "cell_type": "raw",
   "id": "4549ae8e-82d1-4f34-b6b7-fe3d652599bf",
   "metadata": {},
   "source": [
    "---\n",
    "title: \"Do LLMs have certain moral judgment?\"\n",
    "description: \"Three LLMs made their moral decisions on trolley problem\"\n",
    "author: \"An LLM User\"\n",
    "date: \"2/23/2024\"\n",
    "categories:\n",
    "  - LLMs\n",
    "  - morality\n",
    "---"
   ]
  },
  {
   "cell_type": "markdown",
   "id": "c1e1d929-6712-460a-bd0d-92e77068f3c3",
   "metadata": {},
   "source": [
    "# Moral \n",
    "* Back in April 2024"
   ]
  },
  {
   "cell_type": "code",
   "execution_count": null,
   "id": "dada32ca-885a-4b41-b26a-5066d4c535e6",
   "metadata": {},
   "outputs": [],
   "source": [
    "print(completion.choices[0].message.content)"
   ]
  }
 ],
 "metadata": {
  "kernelspec": {
   "display_name": "Python 3 (ipykernel)",
   "language": "python",
   "name": "python3"
  },
  "language_info": {
   "codemirror_mode": {
    "name": "ipython",
    "version": 3
   },
   "file_extension": ".py",
   "mimetype": "text/x-python",
   "name": "python",
   "nbconvert_exporter": "python",
   "pygments_lexer": "ipython3",
   "version": "3.10.12"
  }
 },
 "nbformat": 4,
 "nbformat_minor": 5
}
