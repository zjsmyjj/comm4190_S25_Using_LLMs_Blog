{
 "cells": [
  {
   "cell_type": "raw",
   "id": "4549ae8e-82d1-4f34-b6b7-fe3d652599bf",
   "metadata": {},
   "source": [
    "---\n",
    "title: \"Do LLMs have certain moral judgment?\"\n",
    "description: \"Three LLMs made their moral decisions on trolley problem\"\n",
    "author: \"Qijia Ye\"\n",
    "date: \"2/23/2024\"\n",
    "categories:\n",
    "  - LLMs\n",
    "  - morality\n",
    "---"
   ]
  },
  {
   "cell_type": "markdown",
   "id": "c1e1d929-6712-460a-bd0d-92e77068f3c3",
   "metadata": {},
   "source": [
    "## Trolley Problem and LLMs\n",
    "One of classic moral dilemmas is [trolley problem](https://en.wikipedia.org/wiki/Trolley_problem). In this dilemma, people need to make a decision between \"sacrificing 1 person to save 5 human lives\" and \"doing nothing but watching the 5 people die.\" This is a really difficult moral decision. On the one hand, from the perspective of utilitarianism, decision maker should sacrifice the person so that more people can be saved. On the other hand, according to the deontological morality, harming an innocent person is immoral, no matter what the motivation is. To examine whether LLMs have certain moral judgment, I asked three LLMs to solve the trolley problem, including ChatGPT-4o, DeepSeek-r1, and Gemini."
   ]
  },
  {
   "cell_type": "markdown",
   "id": "e28a18a5-a8af-4a66-9273-fed28f442947",
   "metadata": {},
   "source": [
    "### ChatGPT-4o\n",
    "First, I enter the following prompt on *ChatGPT-4o*:\n",
    "> You see the situation occurring from a distance and find yourself next to a lever that would divert the trolley to another set of tracks.  There is one person on the alternate tracks. You could do nothing and allow the trolley to kill five people, or you could pull the lever to divert the trolley to where it will kill one person. What will you do? "
   ]
  },
  {
   "cell_type": "markdown",
   "id": "f4f4dd2b-bd06-4b81-988f-ce00d0462e4c",
   "metadata": {},
   "source": [
    "Here is the response from ChatGPT-4o:\n",
    "\n",
    "<img src=\"gpt-4o.png\" width=\"60%\"/>\n",
    "\n",
    "It seems that ChatGPT-4o does have its own moral opinion--sacrificing one person to save more people based on utilitarianism. But still, I am not sure whether most LLMs will make this moral decision. Therefore, I asked other two LLMs."
   ]
  },
  {
   "cell_type": "markdown",
   "id": "1906e8cd-0d87-4f4a-b190-c3441fb3d909",
   "metadata": {
    "jp-MarkdownHeadingCollapsed": true
   },
   "source": [
    "## DeepSeek-r1\n",
    "I used *DeepSeek-r1* with the same prompt. The following are parts of its initial responses:\n",
    "\n",
    "<img src=\"deepseek-r1-0.png\" width=\"60%\"/>\n",
    "\n",
    "It seems that DeepSeek-r1 only provided the analysis given the situation but did not want to directly make a decision in the dilemma. Therefore, I forced it to make the moral decison using the following prompt:\n",
    "\n",
    "> If you have to make a decision, will you pull the lever or not?\n",
    "\n",
    "And here was the subsequent response: \n",
    "\n",
    "<img src=\"deepseek-r1.png\" width=\"60%\"/>\n",
    "\n",
    "Being forced to answer the quesiton, similar to ChatGPT-4o, DeepSeek-r1 also preferred sacrificing one person based on the viewpoint of utilitarianism. What about the last LLM, *Gemini*?"
   ]
  },
  {
   "cell_type": "markdown",
   "id": "5d9bd83b-af8a-42dd-860f-6a3425a4d82c",
   "metadata": {},
   "source": [
    "## Gemini\n",
    "Using the same prompt, the following are the responses from Gemini:\n",
    "\n",
    "<img src=\"gemini.png\" width=\"60%\"/>\n",
    "\n",
    "Now it is quite clearly that all three LLMs had the very same moral opinion regarding trolley problem--they supported utilitarianism.\n",
    "\n",
    "If this is the case, when users ask those LLMs for advice or help, their utilitarian approaches may influence how users' real behavior. It might be necessarily to figure out why those LLMs have the preference on utilitarianism and warn users in advance that LLMs have certain moral opninons."
   ]
  }
 ],
 "metadata": {
  "kernelspec": {
   "display_name": "Python 3 (ipykernel)",
   "language": "python",
   "name": "python3"
  },
  "language_info": {
   "codemirror_mode": {
    "name": "ipython",
    "version": 3
   },
   "file_extension": ".py",
   "mimetype": "text/x-python",
   "name": "python",
   "nbconvert_exporter": "python",
   "pygments_lexer": "ipython3",
   "version": "3.10.12"
  }
 },
 "nbformat": 4,
 "nbformat_minor": 5
}
