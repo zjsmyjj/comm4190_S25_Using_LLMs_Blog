{
 "cells": [
  {
   "cell_type": "raw",
   "id": "bb885cef-676f-4f8e-b247-53ad88b79b2f",
   "metadata": {},
   "source": [
    "---\n",
    "title: \"Can ChatGPT identify gender expression via image?\"\n",
    "description: \"Explore ChatGPT's ability to identify image gender expression.\"\n",
    "author: \"Qijia Ye\"\n",
    "date: \"03/04/2024\"\n",
    "categories:\n",
    "  - LLMs\n",
    "  - Image\n",
    "  - Gender expression\n",
    "---"
   ]
  },
  {
   "attachments": {},
   "cell_type": "markdown",
   "id": "fe18d03b-53c3-40a7-a392-7393e65179ae",
   "metadata": {},
   "source": [
    "Gender expression refers to the external presentation of one's gender identity, including masculine expression, feminine expression, and transgender/nonbinary expression. Health messages using different expressions may lead to different responses among message receivers who really pay attention to gender expression in communication and their own gender identities, such as sexual and gender minority (SGM) individuals. Selecting image gender expression that matches message receiver's gender identity is important. In this test, I intended to explore ChatGPT's ability to identify image gender expression.\n",
    "\n",
    "I randomly selected 12 images from a pool of images that have been categorized into four gender expressions: masculine expression, feminine expression, transgender/nonbinary expression, and multiple gender expressions. Multiple gender expressions include more than one gender expressions in the image. The categorization was based on label of the stock photoe or by researchers in the Project RESIST. The following are the images that were used in the test."
   ]
  },
  {
   "cell_type": "markdown",
   "id": "33cbbeff-f945-4e39-9722-24ba5a65e983",
   "metadata": {},
   "source": [
    "### Masculine expression\n",
    "<img src=\"men_3.jpeg\" width=\"30%\"/> <img src=\"men_19.jpeg\" width=\"30%\"/> <img src=\"men_21.jpeg\" width=\"30%\"/>"
   ]
  },
  {
   "cell_type": "markdown",
   "id": "df23cd47-e05a-48e7-80b0-7c22fe71be72",
   "metadata": {},
   "source": [
    "### Feminine expression\n",
    "<img src=\"women_9.jpeg\" width=\"30%\"/> <img src=\"women_18.jpeg\" width=\"30%\"/> <img src=\"women_23.jpeg\" width=\"30%\"/>"
   ]
  },
  {
   "cell_type": "markdown",
   "id": "1711a699-3bf3-47bb-8768-261dd9a8e5bd",
   "metadata": {},
   "source": [
    "### Transgender/nonbinary expression\n",
    "<img src=\"tnb_3.jpeg\" width=\"30%\"/> <img src=\"tnb_10.jpeg\" width=\"30%\"/> <img src=\"tnb_19.jpeg\" width=\"30%\"/>"
   ]
  },
  {
   "cell_type": "markdown",
   "id": "3ac6d39e-7eaf-4f45-82d3-8d399877bd5d",
   "metadata": {},
   "source": [
    "### Multiple gender expressions\n",
    "<img src=\"mix_9.jpeg\" width=\"30%\"/> <img src=\"mix_19.jpeg\" width=\"30%\"/> <img src=\"mix_20.jpeg\" width=\"30%\"/>"
   ]
  },
  {
   "cell_type": "markdown",
   "id": "2631d832-3d0b-40b2-823c-4bacfa00129d",
   "metadata": {},
   "source": [
    "I used the following prompt to instruct ChatGPT to generate output.\n",
    "> An image can show various gender expressions, including masculine expression, feminine expression, transgender/nonbinary expression, and multiple gender expressions. When an image includes several different gender expressions (e.g., masculine expression and feminine expression), the image shows multiple gender expressions. Which gender expression does this image show? Answer the question only with \"masculine expression,\" \"feminine expression,\" \"transgender/nonbinary expression,\" or \"multiple gender expressions.\" Try your best.\n"
   ]
  },
  {
   "cell_type": "markdown",
   "id": "f445b5c0-25e0-496c-be06-e0fbcf07434e",
   "metadata": {},
   "source": [
    "## Results & Thoughts\n",
    "I was a little surprised by the results. In most cases, ChatGPT can successfully identify image gender expression. Specifically, ChatGPT correctly identified all three images of masculine expression, transgender/nonbinary expression, and multiple gender expressions. However, it did not correctly identify the images of feminine expression. ChatGPT rated two images as transgender/nonbinary expression, and correctly rated one. To be honest, the images of feminine expression can be confusing in terms of gender expression. Overall, it seems that ChatGPT was quite good at identifying image gender expression.\n",
    "\n",
    "I did not define what gender expression was in the prompt. So in order to have a glimpse on how ChatGPT define gender expression, I asked it after the identification task, and here was its response:\n",
    "\n",
    "<img src=\"gender expression.png\" width=\"50%\"/>\n",
    "\n",
    "ChatGPT does have the same definition of gender expression. Probably, it identified gender expression based on characters' appearance such as clothing and hairstyle as human do. It would be interesting to systematically investigate the ability of LLMs to identify gender expression in future experiments. If LLMs can do this job, it will benefit researchers and message designers during the message pretesting period."
   ]
  }
 ],
 "metadata": {
  "kernelspec": {
   "display_name": "Python 3 (ipykernel)",
   "language": "python",
   "name": "python3"
  },
  "language_info": {
   "codemirror_mode": {
    "name": "ipython",
    "version": 3
   },
   "file_extension": ".py",
   "mimetype": "text/x-python",
   "name": "python",
   "nbconvert_exporter": "python",
   "pygments_lexer": "ipython3",
   "version": "3.10.12"
  }
 },
 "nbformat": 4,
 "nbformat_minor": 5
}
