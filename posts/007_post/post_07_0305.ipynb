{
 "cells": [
  {
   "cell_type": "raw",
   "id": "520c3e09-8bcc-478d-91cd-e54ebbd09ef0",
   "metadata": {},
   "source": [
    "---\n",
    "title: \"Can ChatGPT assess perceived targetedness?\"\n",
    "description: \"Test whether ChatGPT can simulate participants and assess perceived targetedness.\"\n",
    "author: \"Qijia Ye\"\n",
    "date: \"03/05/2024\"\n",
    "categories:\n",
    "  - LLMs\n",
    "  - Image\n",
    "  - Gender expression\n",
    "  - Persuasion\n",
    "  - LGBT\n",
    "---"
   ]
  },
  {
   "cell_type": "markdown",
   "id": "49e77ea2-0b85-4d3a-b4b5-db587616c001",
   "metadata": {},
   "source": [
    "This was a follow-up test of the previous one exploring ChatGPT's ability to identify gender expression in an image. Since it is likely that ChatGPT can accurately identify image gender expression, I wondered if it can assess more complex images. In this test, I asked ChatGPT-4o to simulate a real participant from a study of Project RESIST and then assess six culturally tailored health messages in terms of perceived targetedness. Perceived targetedness refers to the extent to which message receivers feel a message was created for them. The participant was 21 years old, non-Hispanic White, transgender and gender-expansive, and a non-smoker. The six health messages was used in the Project RESIST study previously. Each health message consists of an image showing masculine expression, an argument that persuades people to quit smoking, and a message template that include a QR code and a logo of the project. The following are the health messages used in this test. "
   ]
  },
  {
   "cell_type": "markdown",
   "id": "d8a10b15-38e7-41f1-b740-973915d07aa2",
   "metadata": {},
   "source": [
    "### Culturally tailored health messages\n",
    "<img src=\"tnb3.jpg\" width=\"30%\"/> <img src=\"tnb7.jpg\" width=\"30%\"/> <img src=\"tnb10.jpg\" width=\"30%\"/>\n",
    "<img src=\"tnb17.jpg\" width=\"30%\"/> <img src=\"tnb18.jpg\" width=\"30%\"/> <img src=\"tnb19.jpg\" width=\"30%\"/>"
   ]
  },
  {
   "cell_type": "markdown",
   "id": "871d5a92-6a0e-4ce1-bb0e-e68c0374d3be",
   "metadata": {},
   "source": [
    "In the original study, perceived targetedness was assessed on a 5 Likert scale from 1 = strongly disagree to 5 = strongly agree. The scale consisted of three items. I only used one item in this test to explore ChatGPT's ability (\"I would feel this message was intended for people like me.\")."
   ]
  },
  {
   "cell_type": "markdown",
   "id": "784885b8-7a2e-46d4-8a5e-4cdfad6af7e4",
   "metadata": {},
   "source": [
    "The following was the prompt for instructing ChatGPT.\n",
    "\n",
    "> You are a 21 years old, non-Hispanic White, transgender and gender-expansive, and currently you do not smoke. When you viewed this health message, would you feel this message was intended for people like you? Based on the information (e.g., image and texts) in this message, answer the question only with a value on a scale from 1 (strongly disagree) to 5 (strongly agree)."
   ]
  },
  {
   "cell_type": "markdown",
   "id": "02270dbd-5ecf-4352-aa53-5d20ec058581",
   "metadata": {},
   "source": [
    "### Results\n",
    "Interestingly, ChatGPT did not follow the instruction in the prompt. It did not provide the numerical value only of perceived targetedness but also generated its analyses. The following is the response to the health message using the image of a person with blue hair.\n",
    "\n",
    "<img src=\"response.png\" width=\"50%\"/>"
   ]
  },
  {
   "cell_type": "markdown",
   "id": "de86fb8a-b359-4772-a0b8-134d1b4e2582",
   "metadata": {},
   "source": [
    "From the response, we can see that the reasons ChatGPT gave for assessing perceived targetedness are quite good, although I only asked for a numerical value. On average, ChatGPT reported 3.67 across the six health messages (2 messages were rated 3 and 4 messages were rated 4). In contrast, the human participant in the original study reported 2.17, which was lower than ChatGPT's rating. Currently, I am not sure whether ChatGPT generally overrate health messages in terms of perceived targetedness, or it was because I missed some important demographics of the participant in the prompt, or it was just a random case as I did not systematically investigate ChatGPT's ability to assess perceived targetedness. Nevertheless, the analysis ChatGPT showed was impressive, and I am optimistic about using LLMs as a tool to assess the effectiveness of culturally tailored health messages at the phase of message pretesting."
   ]
  }
 ],
 "metadata": {
  "kernelspec": {
   "display_name": "Python 3 (ipykernel)",
   "language": "python",
   "name": "python3"
  },
  "language_info": {
   "codemirror_mode": {
    "name": "ipython",
    "version": 3
   },
   "file_extension": ".py",
   "mimetype": "text/x-python",
   "name": "python",
   "nbconvert_exporter": "python",
   "pygments_lexer": "ipython3",
   "version": "3.10.12"
  }
 },
 "nbformat": 4,
 "nbformat_minor": 5
}
