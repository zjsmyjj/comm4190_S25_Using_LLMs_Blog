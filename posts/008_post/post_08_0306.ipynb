{
 "cells": [
  {
   "cell_type": "raw",
   "id": "67431d94-35fd-4f8c-9eca-2df2125813de",
   "metadata": {},
   "source": [
    "---\n",
    "title: \"LLM-generated emotional appeals\"\n",
    "description: \"Test LLMs' ability of understanding and creating emotional appeals in the context of vaccination\"\n",
    "author: \"Qijia Ye\"\n",
    "date: \"03/15/2024\"\n",
    "categories:\n",
    "  - LLMs\n",
    "  - Persuasion\n",
    "  - Emotional appeal\n",
    "  - Fear\n",
    "  - Anger\n",
    "  - Guilt\n",
    "  - Hope\n",
    "---"
   ]
  },
  {
   "cell_type": "markdown",
   "id": "ff58efe4-07b8-4734-a02e-f18a02c535b2",
   "metadata": {},
   "source": [
    "The goal of this test is to explore the extent to which LLMs understand and create emotional appeals. I tested their ability in the context of vaccination. From a message designer's perspective, an emotional appeal usually consists of two message components: (a) a trigger that elicits intended primary emotion, and (b) efficacy information that motivates message receivers to change behavior, including response-efficacy and self-efficacy information. In this test, will LLMs generate different emotional appeals that include these two message compoenents (i.e., trigger of the intended emotion and efficacy information)? If so, it is really convenient to leverage LLMs to create emotional appeals. I used four emotional appeals (fear, anger, and guilt) to do the test and tried two LLMs (ChatGPT-4o and DeepSeek). The prompt used for generating emotional appeals was standardized as the following:\n",
    "\n",
    "> Can you generate a fear [anger/guilt] appeal that persuade people to get flu shot?\n"
   ]
  },
  {
   "cell_type": "markdown",
   "id": "d09f91f9-2a82-4653-bd8d-61192017c040",
   "metadata": {},
   "source": [
    "# Fear Appeal\n",
    "\n",
    "The following are responses of fear appeals from the two LLMs. Clealry, the ChatGPT-generated fear appeal includes a fear trigger, emphasizing the severity of flu and consequences of not getting a flu shot (e.g., \"The flu is NOT just a bad cold—it can lead to serious complications, long-term health damage, or even death.\"). It mentions the susceptability of the flu (e.g., \"it spreads quickly\") but does not elaborate it. It also includes enough response efficacy information (e.g., \"It’s safe, effective, and could mean the difference between life and death.\") and mentions some self-efficacy information (e.g., \"Get your flu shot today—because the flu won’t wait for you.\"). Similarly, the DeepSeek-generated fear appeal includes a fear trigger (e.g., \"It's a serious illness that can lead to hospitalization, long-term complications, or even death.\") and efficacy information (e.g., \"It’s quick, safe, and widely available. \"). But in addition to fear, the DeepSeek-generated fear appeal seems to include a component of moral norms (e.g., \"By getting vaccinated, you’re not only protecting yourself—you’re also helping to protect those around you, especially the most vulnerable: young children, the elderly, and people with weakened immune systems.\"). Nevertheless, the LLM-generated fear appeals are consistent with the definition of fear appeal.\n",
    "\n",
    "#### ChatGPT-generated fear appeal\n",
    "<img src=\"fear appeal.png\" width=\"60%\"/>\n",
    "\n",
    "#### DeepSeek-generated fear appeal\n",
    "<img src=\"fear appeal_ds.png\" width=\"60%\"/>"
   ]
  },
  {
   "cell_type": "markdown",
   "id": "52433c24-facf-4ebc-bc90-fa36d2668c8a",
   "metadata": {},
   "source": [
    "# Anger Appeal\n",
    "\n",
    "Both ChatGPT- and DeepSeek-generated anger appeals include a trigger of anger (e.g., ChatGPT: \"It’s infuriating. The flu spreads because of avoidable negligence.\"; DeepSeek: \"And every year, thousands of people suffer needlessly because they didn’t get a simple flu shot. Why are we still letting this happen?\"). The LLM-generated messages also include efficacy information (e.g., ChatGPT: \"Enough is enough. It’s time to step up, be responsible, and stop letting misinformation or laziness keep us from protecting our communities.\"; DeepSeek: \"Get angry at the flu, and take action to protect yourself and those around you. Schedule your flu shot today—because it’s time to stop letting the flu call the shots.\"). However, the two messages also seem to blame the message receivers if they do not get the flu shot, which may lead to psychological reactance and reduce message effectiveness (e.g., \"Get your flu shot today. **If you don’t, you’re part of the problem.**\").\n",
    "\n",
    "#### ChatGPT-generated anger appeal\n",
    "<img src=\"anger appeal.png\" width=\"60%\"/>\n",
    "\n",
    "#### DeepSeek-generated anger appeal\n",
    "<img src=\"anger appeal_ds.png\" width=\"60%\"/>"
   ]
  },
  {
   "cell_type": "markdown",
   "id": "be233bc3-ecc4-4edf-b230-576c2715ba93",
   "metadata": {},
   "source": [
    "# Guilt Appeal\n",
    "\n",
    "It seems that both ChatGPT- and DeepSeek-generated guilt appeals include a trigger of guilt by higlighting the moral responsbility of the message receiver (e.g., ChatGPT: \"What if someone you cared about ended up in the ICU because you didn’t take one simple step to protect them?\"; DeepSeek: \"What if your decision to skip the flu shot led to someone else’s suffering? Could you live with that guilt?\"). However, the messages focus on the message receiver themselves rather than the behavior of not getting vaccinated, which may increase message resistance. The two LLM-generated messages are more likely shame appeals instead of guilt appeals. To generate guilt appeals, users may need to define guilt appeals and instruct LLMs to focus on the behavior that elicits guilt. Again, the two messages include efficacy information as the fear and anger appeals (e.g., ChatGPT: \"You can protect the people around you. Get your flu shot today—before it’s too late.\" DeepSeek: \"Schedule your flu shot today—because protecting yourself means protecting others, too.\"). \n",
    "\n",
    "#### ChatGPT-generated guilt appeal\n",
    "<img src=\"guilt appeal.png\" width=\"60%\"/>\n",
    "\n",
    "#### DeepSeek-generated guilt appeal\n",
    "<img src=\"guilt appeal_ds.png\" width=\"60%\"/>"
   ]
  }
 ],
 "metadata": {
  "kernelspec": {
   "display_name": "Python 3 (ipykernel)",
   "language": "python",
   "name": "python3"
  },
  "language_info": {
   "codemirror_mode": {
    "name": "ipython",
    "version": 3
   },
   "file_extension": ".py",
   "mimetype": "text/x-python",
   "name": "python",
   "nbconvert_exporter": "python",
   "pygments_lexer": "ipython3",
   "version": "3.10.12"
  }
 },
 "nbformat": 4,
 "nbformat_minor": 5
}
