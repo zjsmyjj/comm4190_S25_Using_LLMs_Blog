{
 "cells": [
  {
   "cell_type": "raw",
   "id": "5d96788d-4b8c-43fd-b367-4cf6f819a34b",
   "metadata": {},
   "source": [
    "---\n",
    "title: \"Leveraging LLMs to do image editing\"\n",
    "description: \"Test the ability of Gemini 2.0 Flash Experimental in image editing\"\n",
    "author: \"Qijia Ye\"\n",
    "date: \"03/16/2024\"\n",
    "categories:\n",
    "  - LLMs\n",
    "  - Image\n",
    "---"
   ]
  },
  {
   "cell_type": "markdown",
   "id": "3829e38c-e1a4-440a-ab6d-927d058cff08",
   "metadata": {},
   "source": [
    "I tried the new AI tool Gemini 2.0 Flash Experimental to edit a picture that I took of my friend. If the tool is effective and easy to use, I may prefer using it to do image editing instead of using PhotoShop. The following is the picture used in this test."
   ]
  },
  {
   "cell_type": "markdown",
   "id": "ebe1024b-c781-48ba-accc-6eb73d36dc59",
   "metadata": {},
   "source": [
    "<img src=\"IMG_9496.jpg\" width=\"60%\"/>"
   ]
  },
  {
   "cell_type": "markdown",
   "id": "49ae4b62-796a-43f8-a8ee-3b242f644f54",
   "metadata": {},
   "source": [
    "To be honest, I was not satisfied with the position of friend in this picture. I hoped he can be moved to the right side a little bit so that his head will not be overlapped with the corner of the moutain in the background. Therefore, I asked Gemini to move him to the right side. As you can see, he was moved to the right side a little bit, but there was something wrong about his body--His chest and back became thicker and there was a bigger white label on this vest. It seems that Gemini is able to move an object in an image but does not really know how to properly move it without changing the features of the object. "
   ]
  },
  {
   "cell_type": "markdown",
   "id": "cbc5f26d-787c-4d45-80cc-2dbb77111c0e",
   "metadata": {},
   "source": [
    "<img src=\"editing 1.png\" width=\"60%\"/>"
   ]
  },
  {
   "cell_type": "markdown",
   "id": "4576f977-ad47-4b53-ab2e-b779a82949cb",
   "metadata": {},
   "source": [
    "I still felt that my friend should be placed to a further right side of the picture. So I instructed Gemini to do it again. I am not sure whether it is my simple prompt did not work effectively or Gemini did not really know how to move an object in an image, but the position of my did not change at all. I gave up moving his position and tried other functions of image editing using Gemini."
   ]
  },
  {
   "cell_type": "markdown",
   "id": "b00286dc-39fd-4978-93de-0387ff482a88",
   "metadata": {},
   "source": [
    "<img src=\"editing 2.png\" width=\"60%\"/>"
   ]
  },
  {
   "cell_type": "markdown",
   "id": "727262af-fffe-4b38-ae97-17f46b1dad23",
   "metadata": {},
   "source": [
    "I felt the moutain in the background was a little large and wanted it to be smaller. This time I asked Gemini to reduce the size of the mountain with the prompt: \"Can you make the mountain smaller?\" Compared to the original picture, the moutain became smaller, but its appearance also changed somehow. Its texture became smoothier, and the rocks and bushes were gone. So changing the size of an object is not that easy as expected.\n",
    "\n",
    "Next, I wondered if Gemini can change the color of an object. I asked it to make the mountain greener and it succeeded. However, the green color was too saturated, leading to an unreal look of the mountain. I may need to give a more detailed prompt to achieve the effect that I want. "
   ]
  },
  {
   "cell_type": "markdown",
   "id": "4efc8d37-7c88-49c3-bf67-66c98067a238",
   "metadata": {},
   "source": [
    "<img src=\"editing 3.png\" width=\"60%\"/>"
   ]
  },
  {
   "cell_type": "markdown",
   "id": "eeb33538-8b3e-4971-b293-692eeeba6554",
   "metadata": {},
   "source": [
    "Since the introduction of Gemini 2.0 Flash Experimental on their website focuses on the function of adding new elements to the original image, I had a test on it. I wanted to add a planet in the sky and first instructed it with the prompt: \"Can you add a Jupiter in the sky (in the upper right corner of the image)?\" It failed to generate a new image. I simplified the prompt then: \"Can you add a Jupiter in the sky?\" This time, a new image with a Jupiter in the sky was generated. The new image looks cool, but the Jupiter is too big and may take viewers' attention away from my friend. Therefore, I asked it to downsize the Jupiter with the prompt: \"Can you maje the Jupiter smaller?\" It did not work. I made the same instruction again and it still failed to generate a response. It made me confused since I perceived that the AI may recognize what Jupiter was because it added the planet in the sky."
   ]
  },
  {
   "cell_type": "markdown",
   "id": "4a2b23d0-9051-437c-b3c7-ce9b30b23074",
   "metadata": {},
   "source": [
    "<img src=\"editing 4.png\" width=\"60%\"/>"
   ]
  },
  {
   "cell_type": "markdown",
   "id": "adb0cc74-07e6-4e38-a838-30d123fa8384",
   "metadata": {},
   "source": [
    "Then I wanted to get rid of the mountain in the image and asked Gemini to remove it. However, it misunderstood my instruction and removed Jupiter instead. This did not make any sense since the mountain and Jupiter was not alike. Additionally, it seems that my friend's glasses changed to a pair of sunglasses. I did not know why this happened. I asked the AI to remove the moutain again. This time, it removed the gorges in the mountain, and the mountain looked very flat now.   "
   ]
  },
  {
   "cell_type": "markdown",
   "id": "c172c89c-1065-4078-9b31-a2a84b4dd4c6",
   "metadata": {},
   "source": [
    "<img src=\"editing 5.png\" width=\"60%\"/>"
   ]
  },
  {
   "cell_type": "markdown",
   "id": "91353007-a221-486b-a1f8-dd1b30000e81",
   "metadata": {},
   "source": [
    "The last image editing was funny to me. I wanted to see how good this AI was in removing an object in an image. Hence, I asked it to remove my frined in the picture. It failed to do this task. \"Maybe this AI is only good at adding an object.\" That was what I thought about this AI tool currently, and so I asked it to add a girl at the beach. It succeeded, but the girl's size did not match the environment. Interestingly, the girl looks up to the sky as my friend does. Given the performance of Gemini previously, this AI seems to edit an image based on existing information of the image and may be effective in adding extra information to the image. However, it may not be capable of removing or changing visual information in an image due to lacking relevant visual information that be replaced in the image. "
   ]
  },
  {
   "cell_type": "markdown",
   "id": "83a0f54f-a167-4240-9000-98ffa0c207cf",
   "metadata": {},
   "source": [
    "<img src=\"editing 6.png\" width=\"60%\"/>"
   ]
  }
 ],
 "metadata": {
  "kernelspec": {
   "display_name": "Python 3 (ipykernel)",
   "language": "python",
   "name": "python3"
  },
  "language_info": {
   "codemirror_mode": {
    "name": "ipython",
    "version": 3
   },
   "file_extension": ".py",
   "mimetype": "text/x-python",
   "name": "python",
   "nbconvert_exporter": "python",
   "pygments_lexer": "ipython3",
   "version": "3.10.12"
  }
 },
 "nbformat": 4,
 "nbformat_minor": 5
}
