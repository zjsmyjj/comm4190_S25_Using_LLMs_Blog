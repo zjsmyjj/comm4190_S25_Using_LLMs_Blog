{
 "cells": [
  {
   "cell_type": "raw",
   "id": "19c52ea1-b6ad-4bce-a858-0752194fac30",
   "metadata": {},
   "source": [
    "---\n",
    "title: \"Can LLMs do innovative tasks? Part 2\"\n",
    "description: \"A follow up teat examining LLMs' competence of performing innovative tasks.\"\n",
    "author: \"Qijia Ye\"\n",
    "date: \"03/15/2024\"\n",
    "categories:\n",
    "  - LLMs\n",
    "  - Innovation\n",
    "---"
   ]
  },
  {
   "cell_type": "markdown",
   "id": "f1558f9c-0958-4063-8633-4b0c9f35de0a",
   "metadata": {},
   "source": [
    "This is follow-up test of LLMs' innovation (Part 1 of the test can be found [here](https://zjsmyjj.github.io/comm4190_S25_Using_LLMs_Blog/posts/010_post/post_10_0318.html).) The goal of this test is to further examine the ability of LLMs in perfoming innovative tasks. I used ChatGPT-4.5 to carry out two innovative tasks. \n",
    "\n",
    "In the first task, ChatGPT-4.5 was asked to select one of three things to help solve an issue in a situation where a person lacked a typical tool to execute the task. The three things included a thing that can be used innovatively to solve the issue, a thing superficially relevant to the issue but functionally irrelevant, and an irrelevant thing. I was concernd that LLMs may have already learned how to do similar tasks since I still adopted examples from [Yiu et al. (2023)](https://arxiv.org/abs/2305.07666) (If so, LLMs actually imitate human responses instead of performing innovative tasks.). Therefore, I did the second test. In the second test, I asked ChatGPT-4.5 to find things in an environment where a person lacked the typical tool. The tasks in the second test changed to unusual situations, and LLMs' responses could be more open-ended than thsoe in the first test."
   ]
  },
  {
   "cell_type": "markdown",
   "id": "97741a6a-4b05-4f10-af71-983279dabebc",
   "metadata": {},
   "source": [
    "## The first test\n",
    "The responses of ChatGPT-4.5 are quite satisfying. The first question asked it to select a tool among a hanger, a candle, and a book to help cut a birthcake. ChatGPT-4.5 selected the hanger and gave the instruction of how to use it innovatively. The second question asked it to select a tool among an eraser, a shovel, and a ziplock bag to water a pot of flowers. ChatGPT-4.5 selected the ziplock bag, which was the right answer. The third question asked it to slect a tool among a cup lid, a empty plant pot, and a pen to help hold a hot cup of coffee. Again, ChatGPT-4.5 selected the right one (the empty plant pot) and briefly described how to use it as an innovative tool. Again, those resposnes support the viewpoint that LLMs may generate innovative ideas and perform innovative tasks."
   ]
  },
  {
   "cell_type": "markdown",
   "id": "67b0d088-08fd-423e-8548-893d1d40fd1b",
   "metadata": {},
   "source": [
    "<img src=\"img_cake.png\" width=\"60%\"/>"
   ]
  },
  {
   "cell_type": "markdown",
   "id": "7acac07c-acde-49dc-a5a7-7ad19b5d613a",
   "metadata": {},
   "source": [
    "<img src=\"img_bag.png\" width=\"60%\"/>"
   ]
  },
  {
   "cell_type": "markdown",
   "id": "25521475-748f-4fff-853f-9dcee7705b06",
   "metadata": {},
   "source": [
    "<img src=\"img_coffee.png\" width=\"60%\"/>"
   ]
  },
  {
   "cell_type": "markdown",
   "id": "bd74c17e-9e30-449e-b214-16cbe310f51b",
   "metadata": {},
   "source": [
    "## The second test\n",
    "The second test also supports that viewpoint to some extent. The first question asked ChatGPT-4.5 to find things in a garden to help me cut a birthday cake when I do not have a knife. It generated multiple ideas such as using garden spade, thin stick, and garden scissors etc. All those ideas make sense to me. It also reminded the user that they should clean those innovative tools to ensure the food safety. The second question asked it to find things in a hospital to help water flowers when I do not have a watering kettle. Recommended tools included disposable plastic cup, syringe, and measuring cup, and all of them seem useful. It also reminded me of potential harmful substances remaining in those items. The third question asked it to find things in a bedroom to help hold a hot cup of tea. ChatGPT-4.5 suggested that I can use a book, a folded towl, and a piece of clohting etc. I believe those stuffs work in this particular situation. Again, the second test shows LLMs' ability of performing some innovative tasks."
   ]
  },
  {
   "cell_type": "markdown",
   "id": "fb502b8a-1743-4409-be4f-4a1f18b49580",
   "metadata": {},
   "source": [
    "<img src=\"img_garden.png\" width=\"60%\"/>"
   ]
  },
  {
   "cell_type": "markdown",
   "id": "914b6ac5-147f-493e-bbde-8fc23103eac7",
   "metadata": {},
   "source": [
    "<img src=\"img_hospital.png\" width=\"60%\"/>"
   ]
  },
  {
   "cell_type": "markdown",
   "id": "c86116a0-dd77-489c-b35f-12444eba047d",
   "metadata": {},
   "source": [
    "<img src=\"img_bedroom.png\" width=\"60%\"/>"
   ]
  }
 ],
 "metadata": {
  "kernelspec": {
   "display_name": "Python 3 (ipykernel)",
   "language": "python",
   "name": "python3"
  },
  "language_info": {
   "codemirror_mode": {
    "name": "ipython",
    "version": 3
   },
   "file_extension": ".py",
   "mimetype": "text/x-python",
   "name": "python",
   "nbconvert_exporter": "python",
   "pygments_lexer": "ipython3",
   "version": "3.10.12"
  }
 },
 "nbformat": 4,
 "nbformat_minor": 5
}
